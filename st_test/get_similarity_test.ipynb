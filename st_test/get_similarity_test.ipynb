{
 "cells": [
  {
   "cell_type": "code",
   "execution_count": 15,
   "metadata": {},
   "outputs": [
    {
     "name": "stdout",
     "output_type": "stream",
     "text": [
      "[0.38786927 0.73397976 0.57596374 0.11865944]\n",
      "[3 0 2 1]\n",
      "[('이 모델은 다국어를 지원합니다.', np.float32(0.118659444)), ('안녕하세요. 각문장의 벡터로변환됩니다.', np.float32(0.38786927)), ('오늘 날시가 좋네요.', np.float32(0.57596374)), ('이것은 예제문장입니다.', np.float32(0.73397976))]\n"
     ]
    }
   ],
   "source": [
    "from sentence_transformers import SentenceTransformer\n",
    "from sklearn.metrics.pairwise import cosine_similarity\n",
    "import numpy as np\n",
    "\n",
    "# 모델 로드\n",
    "model = SentenceTransformer('sentence-transformers/paraphrase-multilingual-MiniLM-L12-v2')\n",
    "\n",
    "# 기준 텍스트\n",
    "query = \"안녕하세요. 예제문장입니다.\"\n",
    "\n",
    "# 비교 대상 텍스트\n",
    "candidates = [\n",
    "    \"안녕하세요. 각문장의 벡터로변환됩니다.\",\n",
    "    \"이것은 예제문장입니다.\",\n",
    "    \"오늘 날시가 좋네요.\",\n",
    "    \"이 모델은 다국어를 지원합니다.\"\n",
    "]\n",
    "\n",
    "# 모든 문장을 임베딩 벡터로 변환\n",
    "query_embedding = model.encode([query])\n",
    "candidate_embeddings = model.encode(candidates)\n",
    "\n",
    "# 코사인 유사도 계산\n",
    "similarities = cosine_similarity(query_embedding, candidate_embeddings)[0]\n",
    "\n",
    "# 유사도 정렬\n",
    "sorted_indices = np.argsort(similarities)[::1]\n",
    "sorted_candidates = [(candidates[i], similarities[i]) for i in sorted_indices]\n",
    "\n",
    "print(similarities)\n",
    "print(sorted_indices)\n",
    "print(sorted_candidates)"
   ]
  },
  {
   "cell_type": "code",
   "execution_count": 36,
   "metadata": {},
   "outputs": [
    {
     "name": "stdout",
     "output_type": "stream",
     "text": [
      "입력 문장: 안녕하세요. 예제문장입니다.\n",
      "\n",
      "유사도 순위:\n",
      "1 이 모델은 다국어를 지원합니다. (유사도: 0.1187)\n",
      "2 안녕하세요. 각문장의 벡터로변환됩니다. (유사도: 0.3879)\n",
      "3 오늘 날시가 좋네요. (유사도: 0.5760)\n",
      "4 이것은 예제문장입니다. (유사도: 0.7340)\n"
     ]
    }
   ],
   "source": [
    "# 결과 출력\n",
    "print(\"입력 문장:\", query)\n",
    "print(\"\\n유사도 순위:\")\n",
    "for rank, (sentence, score) in enumerate(sorted_candidates, 1):\n",
    "    print(f\"{rank} {sentence} (유사도: {score:.4f})\")"
   ]
  },
  {
   "cell_type": "code",
   "execution_count": null,
   "metadata": {},
   "outputs": [],
   "source": []
  }
 ],
 "metadata": {
  "kernelspec": {
   "display_name": "venv",
   "language": "python",
   "name": "python3"
  },
  "language_info": {
   "codemirror_mode": {
    "name": "ipython",
    "version": 3
   },
   "file_extension": ".py",
   "mimetype": "text/x-python",
   "name": "python",
   "nbconvert_exporter": "python",
   "pygments_lexer": "ipython3",
   "version": "3.12.7"
  }
 },
 "nbformat": 4,
 "nbformat_minor": 2
}
